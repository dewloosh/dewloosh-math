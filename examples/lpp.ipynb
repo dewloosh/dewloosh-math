{
 "cells": [
  {
   "cell_type": "code",
   "execution_count": 62,
   "metadata": {},
   "outputs": [],
   "source": [
    "\n",
    "from dewloosh.math.function import Function, Equality, InEquality\n",
    "from dewloosh.math.optimize import LinearProgrammingProblem as LPP, \\\n",
    "    DegenerateProblemError, NoSolutionError\n",
    "from dewloosh.math.array import atleast2d\n",
    "import sympy as sy\n",
    "import numpy as np"
   ]
  },
  {
   "cell_type": "markdown",
   "metadata": {},
   "source": [
    "## unique solution"
   ]
  },
  {
   "cell_type": "code",
   "execution_count": 63,
   "metadata": {},
   "outputs": [
    {
     "name": "stdout",
     "output_type": "stream",
     "text": [
      "[0. 6. 0. 4.]\n"
     ]
    }
   ],
   "source": [
    "\"\"\"\n",
    "Example for unique solution\n",
    "(0, 6, 0, 4) --> 10\n",
    "The following order automatically creates\n",
    "a feasble solution : [0, 2, 3, 1]\n",
    "\"\"\"\n",
    "variables = ['x1', 'x2', 'x3', 'x4']\n",
    "x1, x2, x3, x4 = syms = sy.symbols(variables, positive=True)\n",
    "obj1 = Function(3*x1 + 9*x3 + x2 + x4, variables=syms)\n",
    "eq11 = Equality(x1 + 2*x3 + x4 - 4, variables=syms)\n",
    "eq12 = Equality(x2 + x3 - x4 - 2, variables=syms)\n",
    "P1 = LPP(cost=obj1, constraints=[eq11, eq12], variables=syms)\n",
    "try:\n",
    "    print(P1.solve(order=[0, 2, 3, 1], raise_errors=True)['x'])\n",
    "except NoSolutionError:\n",
    "    print('NoSolutionError')\n",
    "except DegenerateProblemError:\n",
    "    print('DegenerateProblemError')"
   ]
  },
  {
   "cell_type": "code",
   "execution_count": 64,
   "metadata": {},
   "outputs": [
    {
     "name": "stdout",
     "output_type": "stream",
     "text": [
      "{'preproc': 0.016046762466430664, 'solution': 0.0009551048278808594, 'postproc': 0.0009980201721191406}\n"
     ]
    }
   ],
   "source": [
    "print(P1.solve(order=[0, 2, 3, 1])['time'])"
   ]
  },
  {
   "cell_type": "code",
   "execution_count": 65,
   "metadata": {},
   "outputs": [
    {
     "name": "stdout",
     "output_type": "stream",
     "text": [
      "{x1: array(0.), x2: array(6.), x3: array(0.), x4: array(4.)}\n"
     ]
    }
   ],
   "source": [
    "try:\n",
    "    print(P1.solve(as_dict=True)['x'])\n",
    "except NoSolutionError:\n",
    "    print('NoSolutionError')\n",
    "except DegenerateProblemError:\n",
    "    print('DegenerateProblemError')"
   ]
  },
  {
   "cell_type": "markdown",
   "metadata": {},
   "source": [
    "## degenerate solution"
   ]
  },
  {
   "cell_type": "code",
   "execution_count": 66,
   "metadata": {},
   "outputs": [
    {
     "name": "stdout",
     "output_type": "stream",
     "text": [
      "DegenerateProblemError\n"
     ]
    }
   ],
   "source": [
    "\"\"\"\n",
    "Example for degenerate solution.\n",
    "(0, 2, 0, 0)\n",
    "\"\"\"\n",
    "variables = ['x1', 'x2', 'x3', 'x4']\n",
    "x1, x2, x3, x4 = syms = sy.symbols(variables, positive=True)\n",
    "obj2 = Function(3*x1 + x2 + 9*x3 + x4, variables=syms)\n",
    "eq21 = Equality(x1 + 2*x3 + x4, variables=syms)\n",
    "eq22 = Equality(x2 + x3 - x4 - 2, variables=syms)\n",
    "P2 = LPP(cost=obj2, constraints=[eq21, eq22], variables=syms)\n",
    "try:\n",
    "    print(P2.solve(raise_errors=True)['x'])\n",
    "except NoSolutionError:\n",
    "    print('NoSolutionError')\n",
    "except DegenerateProblemError:\n",
    "    print('DegenerateProblemError')"
   ]
  },
  {
   "cell_type": "markdown",
   "metadata": {},
   "source": [
    "## no solution"
   ]
  },
  {
   "cell_type": "code",
   "execution_count": 67,
   "metadata": {},
   "outputs": [
    {
     "name": "stdout",
     "output_type": "stream",
     "text": [
      "NoSolutionError\n"
     ]
    }
   ],
   "source": [
    "\"\"\"\n",
    "Example for no solution.\n",
    "\"\"\"\n",
    "variables = ['x1', 'x2', 'x3', 'x4']\n",
    "x1, x2, x3, x4 = syms = sy.symbols(variables, positive=True)\n",
    "obj3 = Function(-3*x1 + x2 + 9*x3 + x4, variables=syms)\n",
    "eq31 = Equality(x1 - 2*x3 - x4 + 2, variables=syms)\n",
    "eq32 = Equality(x2 + x3 - x4 - 2, variables=syms)\n",
    "P3 = LPP(cost=obj3, constraints=[eq31, eq32], variables=syms)\n",
    "try:\n",
    "    print(P3.solve(raise_errors=True)['x'])\n",
    "except NoSolutionError:\n",
    "    print('NoSolutionError')\n",
    "except DegenerateProblemError:\n",
    "    print('DegenerateProblemError')\n"
   ]
  },
  {
   "cell_type": "markdown",
   "metadata": {},
   "source": [
    "## multiple solutions"
   ]
  },
  {
   "cell_type": "code",
   "execution_count": 68,
   "metadata": {},
   "outputs": [
    {
     "name": "stdout",
     "output_type": "stream",
     "text": [
      "[[0. 1. 1. 0.]\n",
      " [0. 4. 0. 2.]]\n"
     ]
    }
   ],
   "source": [
    "\"\"\"\n",
    "Example for multiple solutions.\n",
    "(0, 1, 1, 0)\n",
    "(0, 4, 0, 2)\n",
    "\"\"\"\n",
    "variables = ['x1', 'x2', 'x3', 'x4']\n",
    "x1, x2, x3, x4 = syms = sy.symbols(variables, positive=True)\n",
    "obj4 = Function(3*x1 + 2*x2 + 8*x3 + x4, variables=syms)\n",
    "eq41 = Equality(x1 - 2*x3 - x4 + 2, variables=syms)\n",
    "eq42 = Equality(x2 + x3 - x4 - 2, variables=syms)\n",
    "P4 = LPP(cost=obj4, constraints=[eq41, eq42], variables=syms)\n",
    "try:\n",
    "    print(P4.solve()['x'])\n",
    "except NoSolutionError:\n",
    "    print('NoSolutionError')\n",
    "except DegenerateProblemError:\n",
    "    print('DegenerateProblemError')"
   ]
  },
  {
   "cell_type": "markdown",
   "metadata": {},
   "source": [
    "## 2d example with `matplotlib`"
   ]
  },
  {
   "cell_type": "code",
   "execution_count": 69,
   "metadata": {},
   "outputs": [],
   "source": [
    "variables = ['x1', 'x2']\n",
    "x1, x2 = sy.symbols(['x1', 'x2'], positive=True)\n",
    "syms = [x1, x2]\n",
    "f = Function(x1 + x2, variables=syms)\n",
    "ieq1 = InEquality(x1 - 1, op='>=', variables=syms)\n",
    "ieq2 = InEquality(x2 - 1, op='>=', variables=syms)\n",
    "ieq3 = InEquality(x1 + x2 - 4, op='>=', variables=syms)\n",
    "lpp = LPP(cost=f, constraints=[ieq1, ieq2, ieq3], variables=syms)\n"
   ]
  },
  {
   "cell_type": "code",
   "execution_count": 70,
   "metadata": {},
   "outputs": [
    {
     "name": "stdout",
     "output_type": "stream",
     "text": [
      "[[1. 3.]\n",
      " [3. 1.]]\n"
     ]
    }
   ],
   "source": [
    "try:\n",
    "    x = atleast2d(lpp.solve()['x'])\n",
    "    print(lpp.solve()['x'])\n",
    "except NoSolutionError:\n",
    "    print('NoSolutionError')\n",
    "except DegenerateProblemError:\n",
    "    print('DegenerateProblemError')"
   ]
  },
  {
   "cell_type": "code",
   "execution_count": 71,
   "metadata": {},
   "outputs": [
    {
     "name": "stdout",
     "output_type": "stream",
     "text": [
      "{x1: array([1., 3.]), x2: array([3., 1.])}\n"
     ]
    }
   ],
   "source": [
    "try:\n",
    "    print(lpp.solve(as_dict=True)['x'])\n",
    "except NoSolutionError:\n",
    "    print('NoSolutionError')\n",
    "except DegenerateProblemError:\n",
    "    print('DegenerateProblemError')"
   ]
  },
  {
   "cell_type": "code",
   "execution_count": 72,
   "metadata": {},
   "outputs": [],
   "source": [
    "%matplotlib inline"
   ]
  },
  {
   "cell_type": "code",
   "execution_count": 73,
   "metadata": {},
   "outputs": [
    {
     "data": {
      "image/png": "[encoded data removed]",
      "text/plain": [
       "<Figure size 432x432 with 1 Axes>"
      ]
     },
     "metadata": {
      "needs_background": "light"
     },
     "output_type": "display_data"
    }
   ],
   "source": [
    "import numpy as np\n",
    "import matplotlib.pyplot as plt\n",
    "from matplotlib import patheffects\n",
    "\n",
    "fig, ax = plt.subplots(figsize=(6, 6))\n",
    "\n",
    "nx = 101\n",
    "ny = 105\n",
    "\n",
    "# Set up survey vectors\n",
    "xvec = np.linspace(0.001, 4.0, nx)\n",
    "yvec = np.linspace(0.001, 4.0, ny)\n",
    "\n",
    "# Set up survey matrices.  Design disk loading and gear ratio.\n",
    "x1, x2 = np.meshgrid(xvec, yvec)\n",
    "\n",
    "# Evaluate some stuff to plot\n",
    "obj = x1 + x2\n",
    "g1 = x1 - 1\n",
    "g2 = x2 - 1\n",
    "g3 = x1 + x2 - 4\n",
    "\n",
    "cntr = ax.contour(x1, x2, obj, colors='black')\n",
    "ax.clabel(cntr, fmt=\"%2.1f\", use_clabeltext=True)\n",
    "\n",
    "cg1 = ax.contour(x1, x2, g1, [0], colors='sandybrown')\n",
    "plt.setp(cg1.collections, path_effects=[patheffects.withTickedStroke(angle=-135)])\n",
    "\n",
    "cg2 = ax.contour(x1, x2, g2, [0], colors='orangered')\n",
    "plt.setp(cg2.collections, path_effects=[patheffects.withTickedStroke(angle=-60)])\n",
    "\n",
    "cg3 = ax.contour(x1, x2, g3, [0], colors='mediumblue')\n",
    "plt.setp(cg3.collections, path_effects=[patheffects.withTickedStroke()])\n",
    "\n",
    "ax.plot(x[:, 0], x[:, 1], 'ms', markersize=15)\n",
    "\n",
    "ax.set_xlim(0, 4)\n",
    "ax.set_ylim(0, 4)\n",
    "\n",
    "plt.show()"
   ]
  }
 ],
 "metadata": {
  "kernelspec": {
   "display_name": "Python 3.8.10 ('.venv': venv)",
   "language": "python",
   "name": "python3"
  },
  "language_info": {
   "codemirror_mode": {
    "name": "ipython",
    "version": 3
   },
   "file_extension": ".py",
   "mimetype": "text/x-python",
   "name": "python",
   "nbconvert_exporter": "python",
   "pygments_lexer": "ipython3",
   "version": "3.8.10"
  },
  "orig_nbformat": 4,
  "vscode": {
   "interpreter": {
    "hash": "d6ff239af90ab79b7020be6d39cb5c94bfe3a7ef5a06e1710f0ade021c337eda"
   }
  }
 },
 "nbformat": 4,
 "nbformat_minor": 2
}
