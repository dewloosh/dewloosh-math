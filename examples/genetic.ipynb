{
 "cells": [
  {
   "cell_type": "code",
   "execution_count": 1,
   "metadata": {},
   "outputs": [],
   "source": [
    "from dewloosh.math.optimize import BinaryGeneticAlgorithm"
   ]
  },
  {
   "cell_type": "code",
   "execution_count": 2,
   "metadata": {},
   "outputs": [
    {
     "data": {
      "text/plain": [
       "array([1.25274725, 1.57997558])"
      ]
     },
     "execution_count": 2,
     "metadata": {},
     "output_type": "execute_result"
    }
   ],
   "source": [
    "def Rosenbrock(a, b, x, y):\n",
    "    return (a-x)**2 + b*(y-x**2)**2\n",
    "\n",
    "def f(x):\n",
    "    return Rosenbrock(1, 100, x[0], x[1])\n",
    "\n",
    "ranges = [\n",
    "    [-10, 10],\n",
    "    [-10, 10]\n",
    "]\n",
    "BGA = BinaryGeneticAlgorithm(f, ranges, length=12, nPop=200)\n",
    "BGA.solve()\n"
   ]
  },
  {
   "cell_type": "code",
   "execution_count": 3,
   "metadata": {},
   "outputs": [
    {
     "data": {
      "image/png": "[encoded data removed]",
      "text/plain": [
       "<Figure size 432x288 with 1 Axes>"
      ]
     },
     "metadata": {
      "needs_background": "light"
     },
     "output_type": "display_data"
    },
    {
     "name": "stdout",
     "output_type": "stream",
     "text": [
      "min 0.00015021139994751223 @ [0.998779 0.998779]\n"
     ]
    }
   ],
   "source": [
    "# plot the history\n",
    "import matplotlib.pyplot as plt\n",
    "BGA = BinaryGeneticAlgorithm(f, ranges, length=12, nPop=200)\n",
    "history = [f(BGA.best_phenotype())]\n",
    "for _ in range(100):\n",
    "    BGA.evolve(1)\n",
    "    history.append(f(BGA.best_phenotype()))\n",
    "plt.plot(history)\n",
    "plt.show()\n",
    "x = BGA.best_phenotype()\n",
    "fx = f(x)\n",
    "print('min {} @ {}'.format(fx,x))"
   ]
  }
 ],
 "metadata": {
  "kernelspec": {
   "display_name": "Python 3.8.10 ('.venv': venv)",
   "language": "python",
   "name": "python3"
  },
  "language_info": {
   "codemirror_mode": {
    "name": "ipython",
    "version": 3
   },
   "file_extension": ".py",
   "mimetype": "text/x-python",
   "name": "python",
   "nbconvert_exporter": "python",
   "pygments_lexer": "ipython3",
   "version": "3.8.10"
  },
  "orig_nbformat": 4,
  "vscode": {
   "interpreter": {
    "hash": "d6ff239af90ab79b7020be6d39cb5c94bfe3a7ef5a06e1710f0ade021c337eda"
   }
  }
 },
 "nbformat": 4,
 "nbformat_minor": 2
}
