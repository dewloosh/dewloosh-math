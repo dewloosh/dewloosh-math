{
 "cells": [
  {
   "cell_type": "markdown",
   "metadata": {},
   "source": [
    "# **Nonlinear Programming**"
   ]
  },
  {
   "cell_type": "markdown",
   "metadata": {},
   "source": [
    "## Binary Genetic Algorithm (BGA)"
   ]
  },
  {
   "cell_type": "code",
   "execution_count": 31,
   "metadata": {},
   "outputs": [
    {
     "data": {
      "text/plain": [
       "array([0.85225885, 0.72527473])"
      ]
     },
     "execution_count": 31,
     "metadata": {},
     "output_type": "execute_result"
    }
   ],
   "source": [
    "from dewloosh.math.optimize import BinaryGeneticAlgorithm\n",
    "\n",
    "\n",
    "def Rosenbrock(x):\n",
    "    a, b = 1, 100\n",
    "    return (a-x[0])**2 + b*(x[1]-x[0]**2)**2\n",
    "\n",
    "\n",
    "ranges = [[-10, 10], [-10, 10]]\n",
    "BGA = BinaryGeneticAlgorithm(Rosenbrock, ranges, length=12, nPop=200)\n",
    "BGA.solve()\n"
   ]
  },
  {
   "cell_type": "markdown",
   "metadata": {},
   "source": [
    "## Iterative Solution using `BGA.evolve`"
   ]
  },
  {
   "cell_type": "markdown",
   "metadata": {},
   "source": [
    "Here we keep track of the best candidate and plot a history chart using `matplotlib`. The `evolve` call on the object performs a specified number of cycles, while `best_phenotype`\n",
    "returns the best candidate in general format."
   ]
  },
  {
   "cell_type": "code",
   "execution_count": 32,
   "metadata": {},
   "outputs": [
    {
     "data": {
      "image/png": "[encoded data removed]",
      "text/plain": [
       "<Figure size 432x288 with 1 Axes>"
      ]
     },
     "metadata": {
      "needs_background": "light"
     },
     "output_type": "display_data"
    },
    {
     "name": "stdout",
     "output_type": "stream",
     "text": [
      "min 0.06741276975499869 @ [1.25763126 1.58485958]\n"
     ]
    }
   ],
   "source": [
    "import matplotlib.pyplot as plt\n",
    "\n",
    "BGA = BinaryGeneticAlgorithm(Rosenbrock, ranges, length=12, nPop=200)\n",
    "history = [Rosenbrock(BGA.best_phenotype())]\n",
    "for _ in range(100):\n",
    "    BGA.evolve(1)\n",
    "    history.append(Rosenbrock(BGA.best_phenotype()))\n",
    "plt.plot(history)\n",
    "plt.show()\n",
    "x = BGA.best_phenotype()\n",
    "fx = Rosenbrock(x)\n",
    "print('min {} @ {}'.format(fx, x))\n"
   ]
  }
 ],
 "metadata": {
  "kernelspec": {
   "display_name": "Python 3.8.10 ('.venv': venv)",
   "language": "python",
   "name": "python3"
  },
  "language_info": {
   "codemirror_mode": {
    "name": "ipython",
    "version": 3
   },
   "file_extension": ".py",
   "mimetype": "text/x-python",
   "name": "python",
   "nbconvert_exporter": "python",
   "pygments_lexer": "ipython3",
   "version": "3.8.10"
  },
  "orig_nbformat": 4,
  "vscode": {
   "interpreter": {
    "hash": "d6ff239af90ab79b7020be6d39cb5c94bfe3a7ef5a06e1710f0ade021c337eda"
   }
  }
 },
 "nbformat": 4,
 "nbformat_minor": 2
}
